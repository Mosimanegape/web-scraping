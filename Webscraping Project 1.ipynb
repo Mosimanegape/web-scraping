{
 "cells": [
  {
   "cell_type": "markdown",
   "metadata": {},
   "source": [
    "## Web-scraping Online Reviews"
   ]
  },
  {
   "cell_type": "markdown",
   "metadata": {},
   "source": [
    "In this notebook I will be scraping online reviews of `MoneyGram International` from <a href=\"https://www.trustpilot.com/review/www.moneygram.com\">Trust Pilot</a> website. MoneyGram International is an American peer to peer payments and money transfer company. The reviews provide insights into customer satisfaction of their service.\n",
    "\n",
    "The dataset was scraped using Requests & BeautifulSoup python libraries."
   ]
  },
  {
   "cell_type": "markdown",
   "metadata": {},
   "source": [
    "**Import the necessary libraries**"
   ]
  },
  {
   "cell_type": "code",
   "execution_count": 1,
   "metadata": {},
   "outputs": [],
   "source": [
    "import requests \n",
    "from bs4 import BeautifulSoup\n",
    "import pandas as pd "
   ]
  },
  {
   "cell_type": "markdown",
   "metadata": {},
   "source": [
    "Let's build the function that will navigate through HTML tags and extract the data. Keep in mind that the function will differ depending on the structure of ythe website, since every website is build differently. "
   ]
  },
  {
   "cell_type": "code",
   "execution_count": 2,
   "metadata": {},
   "outputs": [],
   "source": [
    "base_url = 'https://www.trustpilot.com/review/www.moneygram.com'\n",
    "\n",
    "def get_reviews_from_page(url):\n",
    "    reviews_df = []\n",
    "    response = requests.get(url)\n",
    "\n",
    "    if response.status_code == 200:\n",
    "\n",
    "        soup = BeautifulSoup(response.text, 'html.parser')\n",
    "\n",
    "        reviews = soup.find_all('div', class_=\"styles_reviewCardInner__EwDq2\")\n",
    "\n",
    "        for review in reviews:\n",
    "            consumer_info_wrapper = review.find('aside', \"styles_consumerInfoWrapper__KP3Ra\")\n",
    "\n",
    "            if consumer_info_wrapper:\n",
    "                consumer_details_wrapper = consumer_info_wrapper.find('a', \"link_internal__7XN06 link_wrapper__5ZJEx styles_consumerDetails__ZFieb\")\n",
    "                if consumer_details_wrapper:\n",
    "                    consumer_name = consumer_details_wrapper.find('span', \"typography_heading-xxs__QKBS8 typography_appearance-default__AAY17\")\n",
    "                    \n",
    "                    if consumer_name:\n",
    "                        name = consumer_name.get_text()\n",
    "                    reviews_no = consumer_details_wrapper.find('div', 'styles_consumerExtraDetails__fxS4S')\n",
    "                    if reviews_no:\n",
    "                        rev_no = reviews_no.find('span', 'typography_body-m__xgxZ_ typography_appearance-subtle__8_H2l')\n",
    "                        if rev_no:\n",
    "                            rev = rev_no.get_text()\n",
    "\n",
    "                        origin = reviews_no.find('div', 'typography_body-m__xgxZ_ typography_appearance-subtle__8_H2l styles_detailsIcon__Fo_ua')\n",
    "                        if origin:\n",
    "                            country = origin.find('span')\n",
    "                            if country:\n",
    "                                country_name = country.get_text(strip=True)\n",
    "\n",
    "            section_wrapper = review.find('section', 'styles_reviewContentwrapper__zH_9M')\n",
    "            if section_wrapper:\n",
    "                review_rating_div = section_wrapper.find('div', 'styles_reviewHeader__iU9Px') \n",
    "                if review_rating_div:\n",
    "                    star_rating_div = review_rating_div.find('div', 'star-rating_starRating__4rrcf star-rating_medium__iN6Ty')\n",
    "\n",
    "                    if star_rating_div:\n",
    "                        img_url = star_rating_div.find('img')\n",
    "                        rating = img_url['alt']\n",
    "\n",
    "                reviews_wrapper = section_wrapper.find('div', 'styles_reviewContent__0Q2Tg')\n",
    "                if reviews_wrapper:\n",
    "                        \n",
    "                        reviews_headings_link = reviews_wrapper.find('a', 'link_notUnderlined__szqki')\n",
    "                        if reviews_headings_link:\n",
    "                            reviews_headings_h2 = reviews_headings_link.find('h2', 'typography_heading-s__f7029 typography_appearance-default__AAY17')\n",
    "                            if reviews_headings_h2:\n",
    "                                review_title = reviews_headings_h2.get_text()\n",
    "\n",
    "                        reviews_headings = reviews_wrapper.find('p', 'typography_color-black__5LYEn')\n",
    "                        if reviews_headings:\n",
    "                            reviews_text = reviews_headings.get_text()\n",
    "                        else:\n",
    "                            reviews_text = 'No review text'\n",
    "\n",
    "                        reviews_date_wrapper = reviews_wrapper.find('p', 'typography_body-m__xgxZ_ typography_appearance-default__AAY17')\n",
    "                        if reviews_date_wrapper:\n",
    "                            reviews_date = reviews_date_wrapper.get_text()\n",
    "                        \n",
    "                        reviews_df.append({\n",
    "                            \"Author\": name,\n",
    "                            \"Reviews\": rev,\n",
    "                            \"Location\": country_name,\n",
    "                            \"Ratings\": rating,\n",
    "                            \"Review Title\": review_title,\n",
    "                            \"Review Text\": reviews_text,\n",
    "                            \"Date of Experience\": reviews_date\n",
    "                        })\n",
    "                            \n",
    "    if reviews_df:\n",
    "        return reviews_df"
   ]
  },
  {
   "cell_type": "markdown",
   "metadata": {},
   "source": [
    "After building the function, we test it on the first page of the website to see if it works."
   ]
  },
  {
   "cell_type": "code",
   "execution_count": 4,
   "metadata": {},
   "outputs": [
    {
     "data": {
      "text/plain": [
       "[{'Author': 'Lester',\n",
       "  'Reviews': '8 reviews',\n",
       "  'Location': 'GB',\n",
       "  'Ratings': 'Rated 5 out of 5 stars',\n",
       "  'Review Title': 'Best one out there',\n",
       "  'Review Text': 'For every transaction, I compare most of the top players in the exchange game and MoneyGram seems to triumph with the best rate and lowest fees. Quite a few businesses will show you an unbelievable exchange rate, but have high transfer fees, which basically comes down to lower than what MoneyGram offers. I guess MoneyGram understands the meaning of transparency. Kudos.',\n",
       "  'Date of Experience': 'Date of experience: May 22, 2024'},\n",
       " {'Author': 'Laura',\n",
       "  'Reviews': '3 reviews',\n",
       "  'Location': 'US',\n",
       "  'Ratings': 'Rated 5 out of 5 stars',\n",
       "  'Review Title': 'Easy to use and convenient ',\n",
       "  'Review Text': 'My mom used to purchase money orders at a local currency exchange branch, I am happy that I learned of MoneyGram as it saves us money on fees when sending funds to Mexico. It is also much more convenient. ',\n",
       "  'Date of Experience': 'Date of experience: May 03, 2024'},\n",
       " {'Author': 'MrSimps',\n",
       "  'Reviews': '3 reviews',\n",
       "  'Location': 'GB',\n",
       "  'Ratings': 'Rated 5 out of 5 stars',\n",
       "  'Review Title': 'Straightforward and Hassle Free ',\n",
       "  'Review Text': 'I was using another money transfer company and had so many problems transferring money it go totally ridiculous. Especially when I was away abroad and really needed my money. I have found MonstGram to be very assessable and straightforward to use. They have made my money transferring so much easier, and I can depend on MoneyGram when I am abroad. ',\n",
       "  'Date of Experience': 'Date of experience: March 04, 2024'},\n",
       " {'Author': 'Lydia Martinez',\n",
       "  'Reviews': '5 reviews',\n",
       "  'Location': 'US',\n",
       "  'Ratings': 'Rated 5 out of 5 stars',\n",
       "  'Review Title': \"I have been using Moneygram since the 80's.\",\n",
       "  'Review Text': \"I have been using Moneygram since the 80's to send $ to my Mom. Then because of things that happen I forgot. That's it, one of me went to live in Mexico and there there are many ways to send money with other chains. After so long I remembered Moneygram quickly and safely. And to tell the truth I never had any problems of any kind. I recommend it, money in seconds no matter where the family lives, and it's NOT EXPENSIVE either.\",\n",
       "  'Date of Experience': 'Date of experience: May 06, 2024'},\n",
       " {'Author': 'Anonymous',\n",
       "  'Reviews': '1 review',\n",
       "  'Location': 'US',\n",
       "  'Ratings': 'Rated 5 out of 5 stars',\n",
       "  'Review Title': 'What made my experience great is how…',\n",
       "  'Review Text': 'What made my experience great is how easy, fast and convenient Money Gram is. Within seconds, the money is being transferred and received. The more you send money, the lower the fee costs, easy and affordable. ',\n",
       "  'Date of Experience': 'Date of experience: May 30, 2024'},\n",
       " {'Author': 'Ngoc B',\n",
       "  'Reviews': '1 review',\n",
       "  'Location': 'AU',\n",
       "  'Ratings': 'Rated 5 out of 5 stars',\n",
       "  'Review Title': 'Moneygram is fast and easy to use',\n",
       "  'Review Text': 'The international money transfer is fast and easy. You just need to verify your identity by taking a picture of your id and upload thru the app. After that, you can send money to your home country, I especially like the free home delivery, very convenient for my mum who is elderly and has mobility issues. She can just stay at home and wait for the delivery.',\n",
       "  'Date of Experience': 'Date of experience: May 13, 2024'},\n",
       " {'Author': 'A.W.',\n",
       "  'Reviews': '2 reviews',\n",
       "  'Location': 'CA',\n",
       "  'Ratings': 'Rated 5 out of 5 stars',\n",
       "  'Review Title': 'MoneyGram made it easy and affordable!',\n",
       "  'Review Text': 'MoneyGram made it easy for me to send money to my family in a very timely manner. Their exchange rates are so much better than the competition and their fees are also very low and affordable!Love you MoneyGram!',\n",
       "  'Date of Experience': 'Date of experience: May 22, 2024'},\n",
       " {'Author': 'Ex Moneygram Customer',\n",
       "  'Reviews': '1 review',\n",
       "  'Location': 'US',\n",
       "  'Ratings': 'Rated 1 out of 5 stars',\n",
       "  'Review Title': 'Moneygram or, “Moneygrab”?',\n",
       "  'Review Text': 'Moneygram no longer offers cash pick up in foreign countries for $4.99 when sending from a bank account in the US. Instead of informing customers in its website and App, the representatives try to convince you to send money through the more expensive options of debit card and credit card. Don’t use Moneygram. There are other more economical alternatives for sending money. ',\n",
       "  'Date of Experience': 'Date of experience: May 29, 2024'},\n",
       " {'Author': 'Nicola',\n",
       "  'Reviews': '1 review',\n",
       "  'Location': 'US',\n",
       "  'Ratings': 'Rated 3 out of 5 stars',\n",
       "  'Review Title': 'Moneygram in port maría thinks my son…',\n",
       "  'Review Text': \"Moneygram in port maría thinks my son is a scammer, so when he goes to port maría in Jamaica twice per week to get money from me for his bills,they will not give it to him....he has to drive over 30 minutes to ocho ríos Jamaica to collect money if it's sent twice in one week\",\n",
       "  'Date of Experience': 'Date of experience: May 16, 2024'},\n",
       " {'Author': 'Millicent Barrowes',\n",
       "  'Reviews': '2 reviews',\n",
       "  'Location': 'GB',\n",
       "  'Ratings': 'Rated 5 out of 5 stars',\n",
       "  'Review Title': 'I have been using MG for many years',\n",
       "  'Review Text': 'I have been using MG for many years, I have no complaints..  its easy to access, easy to understand and most of all my money always reached its destinations on time.',\n",
       "  'Date of Experience': 'Date of experience: May 30, 2024'},\n",
       " {'Author': 'Mr Pidgley',\n",
       "  'Reviews': '7 reviews',\n",
       "  'Location': 'GB',\n",
       "  'Ratings': 'Rated 4 out of 5 stars',\n",
       "  'Review Title': 'Fast and efficient way to transfer…',\n",
       "  'Review Text': \"Fast and efficient way to transfer money to anywhere in the world. It can either be cash pick up or direct transfer into a bank account. Totally safe for you the transfer funder and for the recipients. If you money is not collected you can cancel the transaction and the funds will be returned to your account. It's great to be able to transfer funds to friends and family when it's needed most without any extra worries.\",\n",
       "  'Date of Experience': 'Date of experience: May 16, 2024'},\n",
       " {'Author': 'Grant',\n",
       "  'Reviews': '1 review',\n",
       "  'Location': 'US',\n",
       "  'Ratings': 'Rated 5 out of 5 stars',\n",
       "  'Review Title': 'Fast',\n",
       "  'Review Text': 'Fast, convenient and reliable.Moneygram gives me updates every step of the way after each and every transaction.Thank you MoneyGram,Grant writes.',\n",
       "  'Date of Experience': 'Date of experience: May 27, 2024'},\n",
       " {'Author': 'BRACKETT',\n",
       "  'Reviews': '2 reviews',\n",
       "  'Location': 'US',\n",
       "  'Ratings': 'Rated 5 out of 5 stars',\n",
       "  'Review Title': 'Traveling to The Mother Land',\n",
       "  'Review Text': 'I, just love Moneygram I recently traveled out side of the Country, and Moneygram made it possible for me to receive money, when my flight had been delayed.becuse of weather conditions.So  I had to extend my hotel reservation, for a few extra days, until I was able to travel.so I personally like to thank Moneygram for making it possible for me to receive money from my relatives in the United States.',\n",
       "  'Date of Experience': 'Date of experience: May 01, 2024'},\n",
       " {'Author': 'Jelena',\n",
       "  'Reviews': '1 review',\n",
       "  'Location': 'RS',\n",
       "  'Ratings': 'Rated 5 out of 5 stars',\n",
       "  'Review Title': 'My experience in doing business with MoneyGram is great  ',\n",
       "  'Review Text': \"My experience in doing business with your company has been very good.  The transaction was done quickly and that makes me happy.  For a while there was a problem with the app where I kept having to set a new password over and over again, but I'm glad you fixed it.  Everything is fine now.  I'm sorry that the option to send money from a bank account no longer works for you, and I hope that you will fix that soon.  You're the best\",\n",
       "  'Date of Experience': 'Date of experience: May 23, 2024'},\n",
       " {'Author': 'Nadine Thompson',\n",
       "  'Reviews': '4 reviews',\n",
       "  'Location': 'GB',\n",
       "  'Ratings': 'Rated 5 out of 5 stars',\n",
       "  'Review Title': 'Money Gram is by far the best money…',\n",
       "  'Review Text': 'Money Gram is by far the best money transfer they’re very reliable and fast, their rates are always the best also it’s easy to navigate when using the money gram app to transfer money.',\n",
       "  'Date of Experience': 'Date of experience: May 29, 2024'},\n",
       " {'Author': 'Mr Leo',\n",
       "  'Reviews': '3 reviews',\n",
       "  'Location': 'US',\n",
       "  'Ratings': 'Rated 3 out of 5 stars',\n",
       "  'Review Title': 'I canceled three transactions but they…',\n",
       "  'Review Text': \"I canceled three transactions but they evidently weren't accepted. The person on chat was helpful by telling me about it. However, no email response from MoneyGram about them. If not accepted, okay, but customers need explanations. Your communication is poor. \",\n",
       "  'Date of Experience': 'Date of experience: May 09, 2024'},\n",
       " {'Author': 'Margaret Kinnell',\n",
       "  'Reviews': '3 reviews',\n",
       "  'Location': 'GB',\n",
       "  'Ratings': 'Rated 5 out of 5 stars',\n",
       "  'Review Title': 'My thoughts',\n",
       "  'Review Text': \"This app is easy to use and did what I needed to do.Customer service however is absolutely awful. Everytime I've tried to use it I've been cut off half way through trying to resolve the issue. This hasn't just happened once it every time. Gave up in the end.\",\n",
       "  'Date of Experience': 'Date of experience: May 29, 2024'},\n",
       " {'Author': 'Tecla',\n",
       "  'Reviews': '2 reviews',\n",
       "  'Location': 'US',\n",
       "  'Ratings': 'Rated 5 out of 5 stars',\n",
       "  'Review Title': 'First ',\n",
       "  'Review Text': 'First , the service of sending money to my beloved ones in the comfort of my house. And that my loved ones can pick the money immediately after i hit send. This charges are favorable too.',\n",
       "  'Date of Experience': 'Date of experience: May 30, 2024'},\n",
       " {'Author': 'Keila Williams',\n",
       "  'Reviews': '2 reviews',\n",
       "  'Location': 'US',\n",
       "  'Ratings': 'Rated 5 out of 5 stars',\n",
       "  'Review Title': 'How the money transactions was fast',\n",
       "  'Review Text': \"How the money transactions was fast, all the alerts you receive when the money is ready for pickup and notifications when it's picked up by the receiving party.\",\n",
       "  'Date of Experience': 'Date of experience: May 24, 2024'},\n",
       " {'Author': 'Jackie',\n",
       "  'Reviews': '1 review',\n",
       "  'Location': 'GB',\n",
       "  'Ratings': 'Rated 5 out of 5 stars',\n",
       "  'Review Title': 'Fast and efficient ',\n",
       "  'Review Text': \"My own bank didn't complete an overseas transaction correctly for me. Immediately I thought of Moneygram as I knew the recipients account details. It was fast..there the next day. My receipt from Moneygram gave me all the details I needed to track the progress. I won't be using a bank again.\",\n",
       "  'Date of Experience': 'Date of experience: May 20, 2024'}]"
      ]
     },
     "execution_count": 4,
     "metadata": {},
     "output_type": "execute_result"
    }
   ],
   "source": [
    "# Test the function by getting their reviews from the first page\n",
    "get_reviews_from_page(base_url)"
   ]
  },
  {
   "cell_type": "markdown",
   "metadata": {},
   "source": [
    "We were able to obtain the reviews on the first page, which shows that the function working.\n",
    "\n",
    "Now, since the website is made of multiple pages, we will have to write a code that will go through every page and extract the data."
   ]
  },
  {
   "cell_type": "code",
   "execution_count": 5,
   "metadata": {},
   "outputs": [
    {
     "name": "stdout",
     "output_type": "stream",
     "text": [
      "Scraping complete.\n"
     ]
    }
   ],
   "source": [
    "# Start with the first page\n",
    "page_number = 1\n",
    "reviews_data = []\n",
    "while True:\n",
    "    # Construct the URL for the current page\n",
    "    page_url = f\"{base_url}?page={page_number}\"\n",
    "    \n",
    "    # Get reviews from the current page\n",
    "    reviews_dict_list = get_reviews_from_page(page_url)\n",
    "    reviews_data.append(reviews_dict_list)\n",
    "    # Check if there is a next page (this logic depends on the website's structure)\n",
    "    response = requests.get(page_url)\n",
    "    soup = BeautifulSoup(response.text, 'html.parser')\n",
    "    next_button = soup.find('a', \n",
    "                            class_='link_internal__7XN06 button_button__T34Lr button_m__lq0nA button_appearance-outline__vYcdF button_squared__21GoE link_button___108l pagination-link_next__SDNU4 pagination-link_rel__VElFy')\n",
    " # Adjust this selector to match the \"next page\" button\n",
    "    \n",
    "    if next_button:\n",
    "        page_number += 1  # Move to the next page\n",
    "    else:\n",
    "        break  # No more pages\n",
    "\n",
    "print(\"Scraping complete.\")\n",
    "#reviews_data"
   ]
  },
  {
   "cell_type": "markdown",
   "metadata": {},
   "source": [
    "Done! We managed to scrape without any errors, now let's convert the dictionary list containing the data to a dataframe. If you run this code, keep in mind that you're probably going to get different results because <a href=\"https://www.trustpilot.com\">TrustPilot</a> is a dynamic website that keeps on updating it's records every minute if not every second."
   ]
  },
  {
   "cell_type": "code",
   "execution_count": 16,
   "metadata": {},
   "outputs": [
    {
     "data": {
      "text/html": [
       "<div>\n",
       "<style scoped>\n",
       "    .dataframe tbody tr th:only-of-type {\n",
       "        vertical-align: middle;\n",
       "    }\n",
       "\n",
       "    .dataframe tbody tr th {\n",
       "        vertical-align: top;\n",
       "    }\n",
       "\n",
       "    .dataframe thead th {\n",
       "        text-align: right;\n",
       "    }\n",
       "</style>\n",
       "<table border=\"1\" class=\"dataframe\">\n",
       "  <thead>\n",
       "    <tr style=\"text-align: right;\">\n",
       "      <th></th>\n",
       "      <th>Author</th>\n",
       "      <th>Reviews</th>\n",
       "      <th>Location</th>\n",
       "      <th>Ratings</th>\n",
       "      <th>Review Title</th>\n",
       "      <th>Review Text</th>\n",
       "      <th>Date of Experience</th>\n",
       "    </tr>\n",
       "  </thead>\n",
       "  <tbody>\n",
       "    <tr>\n",
       "      <th>0</th>\n",
       "      <td>Lester</td>\n",
       "      <td>8 reviews</td>\n",
       "      <td>GB</td>\n",
       "      <td>Rated 5 out of 5 stars</td>\n",
       "      <td>Best one out there</td>\n",
       "      <td>For every transaction, I compare most of the t...</td>\n",
       "      <td>Date of experience: May 22, 2024</td>\n",
       "    </tr>\n",
       "    <tr>\n",
       "      <th>1</th>\n",
       "      <td>Laura</td>\n",
       "      <td>3 reviews</td>\n",
       "      <td>US</td>\n",
       "      <td>Rated 5 out of 5 stars</td>\n",
       "      <td>Easy to use and convenient</td>\n",
       "      <td>My mom used to purchase money orders at a loca...</td>\n",
       "      <td>Date of experience: May 03, 2024</td>\n",
       "    </tr>\n",
       "    <tr>\n",
       "      <th>2</th>\n",
       "      <td>MrSimps</td>\n",
       "      <td>3 reviews</td>\n",
       "      <td>GB</td>\n",
       "      <td>Rated 5 out of 5 stars</td>\n",
       "      <td>Straightforward and Hassle Free</td>\n",
       "      <td>I was using another money transfer company and...</td>\n",
       "      <td>Date of experience: March 04, 2024</td>\n",
       "    </tr>\n",
       "    <tr>\n",
       "      <th>3</th>\n",
       "      <td>Lydia Martinez</td>\n",
       "      <td>5 reviews</td>\n",
       "      <td>US</td>\n",
       "      <td>Rated 5 out of 5 stars</td>\n",
       "      <td>I have been using Moneygram since the 80's.</td>\n",
       "      <td>I have been using Moneygram since the 80's to ...</td>\n",
       "      <td>Date of experience: May 06, 2024</td>\n",
       "    </tr>\n",
       "    <tr>\n",
       "      <th>4</th>\n",
       "      <td>Anonymous</td>\n",
       "      <td>1 review</td>\n",
       "      <td>US</td>\n",
       "      <td>Rated 5 out of 5 stars</td>\n",
       "      <td>What made my experience great is how…</td>\n",
       "      <td>What made my experience great is how easy, fas...</td>\n",
       "      <td>Date of experience: May 30, 2024</td>\n",
       "    </tr>\n",
       "  </tbody>\n",
       "</table>\n",
       "</div>"
      ],
      "text/plain": [
       "           Author    Reviews Location                 Ratings  \\\n",
       "0          Lester  8 reviews       GB  Rated 5 out of 5 stars   \n",
       "1           Laura  3 reviews       US  Rated 5 out of 5 stars   \n",
       "2         MrSimps  3 reviews       GB  Rated 5 out of 5 stars   \n",
       "3  Lydia Martinez  5 reviews       US  Rated 5 out of 5 stars   \n",
       "4       Anonymous   1 review       US  Rated 5 out of 5 stars   \n",
       "\n",
       "                                  Review Title  \\\n",
       "0                           Best one out there   \n",
       "1                  Easy to use and convenient    \n",
       "2             Straightforward and Hassle Free    \n",
       "3  I have been using Moneygram since the 80's.   \n",
       "4        What made my experience great is how…   \n",
       "\n",
       "                                         Review Text  \\\n",
       "0  For every transaction, I compare most of the t...   \n",
       "1  My mom used to purchase money orders at a loca...   \n",
       "2  I was using another money transfer company and...   \n",
       "3  I have been using Moneygram since the 80's to ...   \n",
       "4  What made my experience great is how easy, fas...   \n",
       "\n",
       "                   Date of Experience  \n",
       "0    Date of experience: May 22, 2024  \n",
       "1    Date of experience: May 03, 2024  \n",
       "2  Date of experience: March 04, 2024  \n",
       "3    Date of experience: May 06, 2024  \n",
       "4    Date of experience: May 30, 2024  "
      ]
     },
     "execution_count": 16,
     "metadata": {},
     "output_type": "execute_result"
    }
   ],
   "source": [
    "# Convert the dict list to a pandas dataframe\n",
    "import itertools\n",
    "moneygram_reviews = pd.DataFrame(list(itertools.chain.from_iterable(reviews_data)))\n",
    "moneygram_reviews.head()"
   ]
  },
  {
   "cell_type": "markdown",
   "metadata": {},
   "source": [
    "## Data Wrangling"
   ]
  },
  {
   "cell_type": "markdown",
   "metadata": {},
   "source": [
    "**Import libraries**"
   ]
  },
  {
   "cell_type": "markdown",
   "metadata": {},
   "source": [
    "If noticed, there are 3 columns that need to be fixed: `Reviews`, `Ratings` and `Date of Experience`.\n",
    "\n",
    "* **Reviews:** remove the *reviews* text - should be a integer datatype column.\n",
    "* **Ratings:** also remove *Rated - out of 5* - should be a integer datatype column.\n",
    "* **Date of Experience:** remove the *Date of Experience* - column should be a date datatype."
   ]
  },
  {
   "cell_type": "code",
   "execution_count": 18,
   "metadata": {},
   "outputs": [],
   "source": [
    "from datetime import datetime\n",
    "import re\n",
    "\n",
    "# Remove the unwanted string characters from the date\n",
    "moneygram_reviews['Date of Experience'] = [string[20:] for string in moneygram_reviews['Date of Experience']]\n",
    "date_format = '%B %d, %Y'\n",
    "moneygram_reviews['Date of Experience'] = [datetime.strptime(date, date_format) for date in moneygram_reviews['Date of Experience']]"
   ]
  },
  {
   "cell_type": "code",
   "execution_count": 21,
   "metadata": {},
   "outputs": [],
   "source": [
    "# Extract number of reviews from text\n",
    "reviews_pattern = r'\\b\\d+\\b'\n",
    "moneygram_reviews['Reviews'] = [int(re.search(reviews_pattern, review).group()) for review in moneygram_reviews['Reviews']]"
   ]
  },
  {
   "cell_type": "code",
   "execution_count": 22,
   "metadata": {},
   "outputs": [],
   "source": [
    "# Extract the ratins\n",
    "ratings_pattern = r'Rated (\\d+) out of 5 stars'\n",
    "moneygram_reviews['Ratings'] = [int(re.search(ratings_pattern, rating).group(1)) for rating in moneygram_reviews['Ratings']]"
   ]
  },
  {
   "cell_type": "code",
   "execution_count": 28,
   "metadata": {},
   "outputs": [
    {
     "data": {
      "text/html": [
       "<div>\n",
       "<style scoped>\n",
       "    .dataframe tbody tr th:only-of-type {\n",
       "        vertical-align: middle;\n",
       "    }\n",
       "\n",
       "    .dataframe tbody tr th {\n",
       "        vertical-align: top;\n",
       "    }\n",
       "\n",
       "    .dataframe thead th {\n",
       "        text-align: right;\n",
       "    }\n",
       "</style>\n",
       "<table border=\"1\" class=\"dataframe\">\n",
       "  <thead>\n",
       "    <tr style=\"text-align: right;\">\n",
       "      <th></th>\n",
       "      <th>Author</th>\n",
       "      <th>Reviews</th>\n",
       "      <th>Location</th>\n",
       "      <th>Ratings</th>\n",
       "      <th>Review Title</th>\n",
       "      <th>Review Text</th>\n",
       "      <th>Date of Experience</th>\n",
       "    </tr>\n",
       "  </thead>\n",
       "  <tbody>\n",
       "    <tr>\n",
       "      <th>0</th>\n",
       "      <td>Lester</td>\n",
       "      <td>8</td>\n",
       "      <td>GB</td>\n",
       "      <td>5</td>\n",
       "      <td>Best one out there</td>\n",
       "      <td>For every transaction, I compare most of the t...</td>\n",
       "      <td>2024-05-22</td>\n",
       "    </tr>\n",
       "    <tr>\n",
       "      <th>1</th>\n",
       "      <td>Laura</td>\n",
       "      <td>3</td>\n",
       "      <td>US</td>\n",
       "      <td>5</td>\n",
       "      <td>Easy to use and convenient</td>\n",
       "      <td>My mom used to purchase money orders at a loca...</td>\n",
       "      <td>2024-05-03</td>\n",
       "    </tr>\n",
       "    <tr>\n",
       "      <th>2</th>\n",
       "      <td>MrSimps</td>\n",
       "      <td>3</td>\n",
       "      <td>GB</td>\n",
       "      <td>5</td>\n",
       "      <td>Straightforward and Hassle Free</td>\n",
       "      <td>I was using another money transfer company and...</td>\n",
       "      <td>2024-03-04</td>\n",
       "    </tr>\n",
       "  </tbody>\n",
       "</table>\n",
       "</div>"
      ],
      "text/plain": [
       "    Author  Reviews Location  Ratings                      Review Title  \\\n",
       "0   Lester        8       GB        5                Best one out there   \n",
       "1    Laura        3       US        5       Easy to use and convenient    \n",
       "2  MrSimps        3       GB        5  Straightforward and Hassle Free    \n",
       "\n",
       "                                         Review Text Date of Experience  \n",
       "0  For every transaction, I compare most of the t...         2024-05-22  \n",
       "1  My mom used to purchase money orders at a loca...         2024-05-03  \n",
       "2  I was using another money transfer company and...         2024-03-04  "
      ]
     },
     "execution_count": 28,
     "metadata": {},
     "output_type": "execute_result"
    }
   ],
   "source": [
    "moneygram_reviews.head(3)"
   ]
  },
  {
   "cell_type": "code",
   "execution_count": 25,
   "metadata": {},
   "outputs": [
    {
     "data": {
      "text/plain": [
       "Author                        object\n",
       "Reviews                        int64\n",
       "Location                      object\n",
       "Ratings                        int64\n",
       "Review Title                  object\n",
       "Review Text                   object\n",
       "Date of Experience    datetime64[ns]\n",
       "dtype: object"
      ]
     },
     "execution_count": 25,
     "metadata": {},
     "output_type": "execute_result"
    }
   ],
   "source": [
    "moneygram_reviews.dtypes"
   ]
  },
  {
   "cell_type": "markdown",
   "metadata": {},
   "source": [
    "Great! The dataset columns are now in proper datatypes. You can save the dataframe to a csv file.\n"
   ]
  },
  {
   "cell_type": "code",
   "execution_count": null,
   "metadata": {},
   "outputs": [],
   "source": [
    "moneygram_reviews.to_csv(\"C:\\\\MoneyGram Reviews.csv\", index=False)"
   ]
  }
 ],
 "metadata": {
  "kernelspec": {
   "display_name": "Python 3",
   "language": "python",
   "name": "python3"
  },
  "language_info": {
   "codemirror_mode": {
    "name": "ipython",
    "version": 3
   },
   "file_extension": ".py",
   "mimetype": "text/x-python",
   "name": "python",
   "nbconvert_exporter": "python",
   "pygments_lexer": "ipython3",
   "version": "3.9.13"
  }
 },
 "nbformat": 4,
 "nbformat_minor": 2
}
